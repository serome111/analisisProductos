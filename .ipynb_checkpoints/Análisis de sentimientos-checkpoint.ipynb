{
 "cells": [
  {
   "cell_type": "code",
   "execution_count": 1,
   "metadata": {},
   "outputs": [],
   "source": [
    "#!pip install textblob"
   ]
  },
  {
   "cell_type": "markdown",
   "metadata": {},
   "source": [
    "##### web con Documentacion https://textblob.readthedocs.io/en/dev/classifiers.html"
   ]
  },
  {
   "cell_type": "code",
   "execution_count": 153,
   "metadata": {},
   "outputs": [],
   "source": [
    "from textblob.classifiers import NaiveBayesClassifier\n",
    "import csv"
   ]
  },
  {
   "cell_type": "code",
   "execution_count": 154,
   "metadata": {},
   "outputs": [],
   "source": [
    "def sentiments(texto):\n",
    "    with open('datos.csv','r') as data:\n",
    "        cl= NaiveBayesClassifier(data,format=\"csv\")\n",
    "    #print(cl.classify(\"Esta es una libreria adorable!\"))\n",
    "    return cl.classify(texto)\n",
    "def area(texto):\n",
    "    try:\n",
    "        with open('areas.csv','r') as data:\n",
    "            cl= NaiveBayesClassifier(data,format=\"csv\")\n",
    "        return cl.classify(texto)\n",
    "    except Exception as e:\n",
    "        print(e)\n",
    "def analizarconversacion():\n",
    "    archivo = csv.reader(open(\"txt2.csv\",\"r\"))\n",
    "    for index,row in enumerate(archivo):\n",
    "        #self.datosPR[row[0]]=row[1]\n",
    "        #print(sentiments(row[1]))\n",
    "        print(area(row[1]))\n",
    "        #print(\"persona\", row[1])\n",
    "        "
   ]
  },
  {
   "cell_type": "code",
   "execution_count": 155,
   "metadata": {
    "scrolled": true
   },
   "outputs": [
    {
     "name": "stdout",
     "output_type": "stream",
     "text": [
      "'utf-8' codec can't decode byte 0xbf in position 1443: invalid start byte\n",
      "None\n",
      "'utf-8' codec can't decode byte 0xbf in position 1443: invalid start byte\n",
      "None\n",
      "'utf-8' codec can't decode byte 0xbf in position 1443: invalid start byte\n",
      "None\n",
      "'utf-8' codec can't decode byte 0xbf in position 1443: invalid start byte\n",
      "None\n",
      "'utf-8' codec can't decode byte 0xbf in position 1443: invalid start byte\n",
      "None\n",
      "'utf-8' codec can't decode byte 0xbf in position 1443: invalid start byte\n",
      "None\n",
      "'utf-8' codec can't decode byte 0xbf in position 1443: invalid start byte\n",
      "None\n",
      "'utf-8' codec can't decode byte 0xbf in position 1443: invalid start byte\n",
      "None\n",
      "'utf-8' codec can't decode byte 0xbf in position 1443: invalid start byte\n",
      "None\n"
     ]
    }
   ],
   "source": [
    "analizarconversacion()"
   ]
  },
  {
   "cell_type": "markdown",
   "metadata": {},
   "source": [
    "##### prueba"
   ]
  },
  {
   "cell_type": "code",
   "execution_count": null,
   "metadata": {},
   "outputs": [],
   "source": []
  },
  {
   "cell_type": "code",
   "execution_count": 3,
   "metadata": {},
   "outputs": [],
   "source": [
    "def sentiments(texto):\n",
    "    with open('datos.csv','r') as data:\n",
    "        cl= NaiveBayesClassifier(data,format=\"csv\")\n",
    "        print(cl.classify(texto))"
   ]
  },
  {
   "cell_type": "code",
   "execution_count": 5,
   "metadata": {},
   "outputs": [
    {
     "name": "stdout",
     "output_type": "stream",
     "text": [
      "dudoso\n"
     ]
    }
   ],
   "source": [
    "sentiments('mi perro es feliz')"
   ]
  },
  {
   "cell_type": "markdown",
   "metadata": {},
   "source": [
    "#lista de sentimientos\n",
    "- Amor\n",
    "- Tristeza\n",
    "- Euforia\n",
    "- Admiración\n",
    "- Odio\n",
    "- Envidia\n",
    "- Celos\n",
    "- Afecto\n",
    "- Agrado\n",
    "- Esperanza\n",
    "- Optimismo\n",
    "- Gratitud\n",
    "- Enfado\n",
    "- Indignación\n",
    "- Impaciencia\n",
    "- Venganza\n",
    "- Satisfacción\n",
    "- Compasión\n",
    "- Alegría\n",
    "- Culpa\n",
    "- Resentimiento\n",
    "- Rabia\n",
    "- Preocupación\n",
    "- Desesperación\n"
   ]
  },
  {
   "cell_type": "code",
   "execution_count": null,
   "metadata": {},
   "outputs": [],
   "source": [
    "# podemos determinar de que productos se habla y segun esto si el analisis del sentimiento de la conversacion es malo\n",
    "# se envia una notificacion al area del cual se hablo en la conversacion.\n",
    "\n",
    "\n",
    "#area retail al por menor de prendas de vestir\n",
    "#reatail\n",
    "\n"
   ]
  }
 ],
 "metadata": {
  "kernelspec": {
   "display_name": "Python 3",
   "language": "python",
   "name": "python3"
  },
  "language_info": {
   "codemirror_mode": {
    "name": "ipython",
    "version": 3
   },
   "file_extension": ".py",
   "mimetype": "text/x-python",
   "name": "python",
   "nbconvert_exporter": "python",
   "pygments_lexer": "ipython3",
   "version": "3.8.5"
  }
 },
 "nbformat": 4,
 "nbformat_minor": 4
}
