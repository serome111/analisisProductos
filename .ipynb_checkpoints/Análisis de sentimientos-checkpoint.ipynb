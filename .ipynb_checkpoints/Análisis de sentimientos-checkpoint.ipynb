{
 "cells": [
  {
   "cell_type": "code",
   "execution_count": 1,
   "metadata": {},
   "outputs": [],
   "source": [
    "#!pip install textblob"
   ]
  },
  {
   "cell_type": "markdown",
   "metadata": {},
   "source": [
    "##### web con Documentacion https://textblob.readthedocs.io/en/dev/classifiers.html"
   ]
  },
  {
   "cell_type": "code",
   "execution_count": 579,
   "metadata": {},
   "outputs": [],
   "source": [
    "from textblob.classifiers import NaiveBayesClassifier\n",
    "import csv"
   ]
  },
  {
   "cell_type": "code",
   "execution_count": 604,
   "metadata": {},
   "outputs": [],
   "source": [
    "def sentiments(texto):\n",
    "    \"\"\"Esto analiza si es satisfactorio o insatisfactorio\"\"\"\n",
    "    with open('datos.csv','r') as data:\n",
    "        cl= NaiveBayesClassifier(data,format=\"csv\")\n",
    "    prob_dist = cl.prob_classify(texto)\n",
    "    #print(round(prob_dist.prob(\"Insactifaccion\"), 3))\n",
    "    return cl.classify(texto)\n",
    "def area(texto):\n",
    "    \"\"\"Esto analiza que tipo de prenda se esta comprando\"\"\"\n",
    "    try:\n",
    "        with open('areas.csv','r', encoding='windows-1252') as data: #encoding='ANSI'\n",
    "            cl= NaiveBayesClassifier(data,format=\"csv\")\n",
    "        prob_dist = cl.prob_classify(texto)\n",
    "        #print(round(prob_dist.prob(\"nn\"), 3))\n",
    "        return cl.classify(texto)\n",
    "    except Exception as e:\n",
    "        print(\"Problemas con el formato de archivo\")\n",
    "def analizarconversacion():\n",
    "    \"\"\"Analisis de conversacion para determinar si fue satisfactoria y el tipo de productos que se hablo\"\"\"\n",
    "    a,s=[],[]\n",
    "    archivo = csv.reader(open(\"conversacion5.csv\",\"r\", encoding='windows-1252'))\n",
    "    for index,row in enumerate(archivo):\n",
    "        #print(area(row[1]))\n",
    "        if area(row[1]) != \"nn\":\n",
    "            a.append(area(row[1]))\n",
    "        if sentiments(row[1]) != \"nulo\":\n",
    "            s.append(sentiments(row[1]))\n",
    "        #print(\"persona\", row[1])\n",
    "    if(len(s) == 0):\n",
    "        s = ['indeterminado']\n",
    "    print(\"En la conversacion se hablo de productos como: {} \".format(set(a)) + \"y la venta fue de {}\".format(set(s)))"
   ]
  },
  {
   "cell_type": "code",
   "execution_count": 605,
   "metadata": {
    "scrolled": true
   },
   "outputs": [
    {
     "name": "stdout",
     "output_type": "stream",
     "text": [
      "0.974\n",
      "0.03\n",
      "0.03\n",
      "0.999\n",
      "0.769\n",
      "0.466\n",
      "0.982\n",
      "0.982\n",
      "0.982\n",
      "0.91\n",
      "En la conversacion se hablo de productos como: {'camiseta'} y la venta fue de {' \"sin_respuesta\"'}\n"
     ]
    }
   ],
   "source": [
    "analizarconversacion()"
   ]
  },
  {
   "cell_type": "markdown",
   "metadata": {},
   "source": [
    "# analisis Productos\n",
    "\n",
    "En este pequeño proyecto lo que se intenta es recrear un escenario de analisis utilizando el algoritmo de Naive Bayes para determinar si el cliente se siente satisfecho o insatisfecho con la compra realizada y determinar el tipo de producto para informar al area.\n",
    "\n",
    "<img src=\"https://blog-assets.freshworks.com/freshdesk/wp-content/uploads/2019/02/06180403/Voice_bot.gif\"/>"
   ]
  },
  {
   "cell_type": "code",
   "execution_count": null,
   "metadata": {},
   "outputs": [],
   "source": []
  }
 ],
 "metadata": {
  "kernelspec": {
   "display_name": "Python 3",
   "language": "python",
   "name": "python3"
  },
  "language_info": {
   "codemirror_mode": {
    "name": "ipython",
    "version": 3
   },
   "file_extension": ".py",
   "mimetype": "text/x-python",
   "name": "python",
   "nbconvert_exporter": "python",
   "pygments_lexer": "ipython3",
   "version": "3.8.5"
  }
 },
 "nbformat": 4,
 "nbformat_minor": 4
}
