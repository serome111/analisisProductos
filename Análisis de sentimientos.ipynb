{
 "cells": [
  {
   "cell_type": "code",
   "execution_count": 1,
   "metadata": {},
   "outputs": [],
   "source": [
    "#!pip install textblob"
   ]
  },
  {
   "cell_type": "markdown",
   "metadata": {},
   "source": [
    "##### web con Documentacion https://textblob.readthedocs.io/en/dev/classifiers.html"
   ]
  },
  {
   "cell_type": "code",
   "execution_count": 285,
   "metadata": {},
   "outputs": [],
   "source": [
    "from textblob.classifiers import NaiveBayesClassifier\n",
    "import csv"
   ]
  },
  {
   "cell_type": "code",
   "execution_count": 338,
   "metadata": {},
   "outputs": [],
   "source": [
    "def sentiments(texto):\n",
    "    with open('datos.csv','r') as data:\n",
    "        cl= NaiveBayesClassifier(data,format=\"csv\")\n",
    "    #print(cl.classify(\"Esta es una libreria adorable!\"))\n",
    "    return cl.classify(texto)\n",
    "def area(texto):\n",
    "    try:\n",
    "        with open('areas.csv','r', encoding='windows-1252') as data: #encoding='ANSI'\n",
    "            cl= NaiveBayesClassifier(data,format=\"csv\")\n",
    "        prob_dist = cl.prob_classify(texto)\n",
    "        #print(round(prob_dist.prob(\"media\"), 3))\n",
    "        return cl.classify(texto)\n",
    "    except Exception as e:\n",
    "        print(e)\n",
    "def analizarconversacion():\n",
    "    a=[]\n",
    "    archivo = csv.reader(open(\"conversacion1.csv\",\"r\", encoding='windows-1252'))\n",
    "    for index,row in enumerate(archivo):\n",
    "        #print(area(row[1]))\n",
    "        if area(row[1]) != \"nn\":\n",
    "            a.append(area(row[1]))\n",
    "        print(sentiments(row[1]))\n",
    "        #print(row[1]+ \"-->\" +area(row[1]))\n",
    "        #print(\"persona\", row[1])\n",
    "    print(a)"
   ]
  },
  {
   "cell_type": "code",
   "execution_count": 339,
   "metadata": {
    "scrolled": true
   },
   "outputs": [
    {
     "name": "stdout",
     "output_type": "stream",
     "text": [
      "nulo\n",
      "nulo\n",
      "nulo\n",
      "nulo\n",
      "nulo\n",
      "nulo\n",
      "nulo\n",
      "Satisfacción\n",
      "Satisfacción\n",
      "['camisa']\n"
     ]
    }
   ],
   "source": [
    "analizarconversacion()"
   ]
  },
  {
   "cell_type": "markdown",
   "metadata": {},
   "source": [
    "##### prueba"
   ]
  },
  {
   "cell_type": "code",
   "execution_count": null,
   "metadata": {},
   "outputs": [],
   "source": [
    "# en la conversacion se esta hablando de zapatos,camisas\n",
    "# el sentimiento de la conversacion es satisfaccion o iInsactifaccion\n",
    "# "
   ]
  },
  {
   "cell_type": "code",
   "execution_count": 3,
   "metadata": {},
   "outputs": [],
   "source": [
    "def sentiments(texto):\n",
    "    with open('datos.csv','r') as data:\n",
    "        cl= NaiveBayesClassifier(data,format=\"csv\")\n",
    "        print(cl.classify(texto))"
   ]
  },
  {
   "cell_type": "code",
   "execution_count": 5,
   "metadata": {},
   "outputs": [
    {
     "name": "stdout",
     "output_type": "stream",
     "text": [
      "dudoso\n"
     ]
    }
   ],
   "source": [
    "sentiments('mi perro es feliz')"
   ]
  },
  {
   "cell_type": "markdown",
   "metadata": {},
   "source": [
    "#lista de sentimientos\n",
    "- Amor\n",
    "- Tristeza\n",
    "- Euforia\n",
    "- Admiración\n",
    "- Odio\n",
    "- Envidia\n",
    "- Celos\n",
    "- Afecto\n",
    "- Agrado\n",
    "- Esperanza\n",
    "- Optimismo\n",
    "- Gratitud\n",
    "- Enfado\n",
    "- Indignación\n",
    "- Impaciencia\n",
    "- Venganza\n",
    "- Satisfacción\n",
    "- Compasión\n",
    "- Alegría\n",
    "- Culpa\n",
    "- Resentimiento\n",
    "- Rabia\n",
    "- Preocupación\n",
    "- Desesperación\n"
   ]
  },
  {
   "cell_type": "code",
   "execution_count": null,
   "metadata": {},
   "outputs": [],
   "source": [
    "# podemos determinar de que productos se habla y segun esto si el analisis del sentimiento de la conversacion es malo\n",
    "# se envia una notificacion al area del cual se hablo en la conversacion.\n",
    "\n",
    "\n",
    "#area retail al por menor de prendas de vestir\n",
    "#reatail\n",
    "\n"
   ]
  },
  {
   "cell_type": "markdown",
   "metadata": {},
   "source": [
    "# analisis Productos\n",
    "\n",
    "En este pequeño proyecto lo que se intenta es recrear un escenario de analisis utilizando el algoritmo de Naive Bayes para determinar si el cliente se siente satisfecho o insatisfecho con la compra realizada y determinar el tipo de producto para informar al area.\n",
    "\n",
    "<img src=\"https://blog-assets.freshworks.com/freshdesk/wp-content/uploads/2019/02/06180403/Voice_bot.gif\"/>"
   ]
  },
  {
   "cell_type": "code",
   "execution_count": null,
   "metadata": {},
   "outputs": [],
   "source": []
  }
 ],
 "metadata": {
  "kernelspec": {
   "display_name": "Python 3",
   "language": "python",
   "name": "python3"
  },
  "language_info": {
   "codemirror_mode": {
    "name": "ipython",
    "version": 3
   },
   "file_extension": ".py",
   "mimetype": "text/x-python",
   "name": "python",
   "nbconvert_exporter": "python",
   "pygments_lexer": "ipython3",
   "version": "3.8.5"
  }
 },
 "nbformat": 4,
 "nbformat_minor": 4
}
