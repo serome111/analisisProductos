{
 "cells": [
  {
   "cell_type": "code",
   "execution_count": 329,
   "metadata": {},
   "outputs": [],
   "source": [
    "#!pip install textblob"
   ]
  },
  {
   "cell_type": "markdown",
   "metadata": {},
   "source": [
    "##### web con Documentacion https://textblob.readthedocs.io/en/dev/classifiers.html"
   ]
  },
  {
   "cell_type": "code",
   "execution_count": 15,
   "metadata": {},
   "outputs": [],
   "source": [
    "from textblob.classifiers import NaiveBayesClassifier"
   ]
  },
  {
   "cell_type": "code",
   "execution_count": null,
   "metadata": {},
   "outputs": [],
   "source": []
  },
  {
   "cell_type": "code",
   "execution_count": 23,
   "metadata": {},
   "outputs": [],
   "source": [
    "def sentiments(texto):\n",
    "    lpd={\"Amor\": 0,\"tristeza\": 0,\"Admiración\": 0,\"Odio\": 0,\"Envidia\": 0,\"Celos\": 0,\"Agrado\": 0,\"Esperanza\": 0,\"Optimismo\": 0,\"Gratitud\": 0,\"Enfado\": 0,\"Indignación\": 0,\"Impaciencia\": 0,\"Venganza\": 0,\"Satisfacción\": 0,\"Compasión\": 0,\"Alegría\": 0,\"Culpa\": 0,\"Resentimiento\": 0,\"Rabia\": 0,\"Preocupación\": 0,\"Desesperación\": 0,}#lpd = probabilidad de \n",
    "    with open('datos.csv','r') as data:\n",
    "        cl= NaiveBayesClassifier(data,format=\"csv\")\n",
    "    prob_dist = cl.prob_classify(a)\n",
    "    lpd.update({'Amor': round(prob_dist.prob(\"Amor\"), 3)})\n",
    "    lpd.update({'tristeza': round(prob_dist.prob(\"tristeza\"), 3)})\n",
    "    lpd.update({'Admiración': round(prob_dist.prob(\"Admiración\"), 3)})\n",
    "    lpd.update({'Odio': round(prob_dist.prob(\"Odio\"), 3)})\n",
    "    lpd.update({'Envidia': round(prob_dist.prob(\"Envidia\"), 3)})\n",
    "    lpd.update({'Celos': round(prob_dist.prob(\"Celos\"), 3)})\n",
    "    lpd.update({'Agrado': round(prob_dist.prob(\"Agrado\"), 3)})\n",
    "    lpd.update({'Esperanza': round(prob_dist.prob(\"Esperanza\"), 3)})\n",
    "    lpd.update({'Optimismo': round(prob_dist.prob(\"Optimismo\"), 3)})\n",
    "    lpd.update({'Gratitud': round(prob_dist.prob(\"Gratitud\"), 3)})\n",
    "    lpd.update({'Enfado': round(prob_dist.prob(\"Enfado\"), 3)})\n",
    "    lpd.update({'positivo': round(prob_dist.prob(\"positivo\"), 3)})\n",
    "    lpd.update({'negativo': round(prob_dist.prob(\"negativo\"), 3)})\n",
    "    lpd.update({'dudoso': round(prob_dist.prob(\"dudoso\"), 3)})\n",
    "    #print(cl.accuracy('texto'))\n",
    "    #res = round(prob_dist.prob(\"dudoso\"), 4)\n",
    "    print(cl.classify(texto))\n",
    "    return lpd\n",
    "    #print(cl.classify(\"Esta es una libreria adorable!\"))"
   ]
  },
  {
   "cell_type": "code",
   "execution_count": 24,
   "metadata": {
    "scrolled": true
   },
   "outputs": [
    {
     "name": "stdout",
     "output_type": "stream",
     "text": [
      "Satisfacción\n"
     ]
    },
    {
     "data": {
      "text/plain": [
       "{'Amor': 0.0,\n",
       " 'tristeza': 0.0,\n",
       " 'Admiración': 0.0,\n",
       " 'Odio': 0.278,\n",
       " 'Envidia': 0.0,\n",
       " 'Celos': 0.0,\n",
       " 'Agrado': 0.0,\n",
       " 'Esperanza': 0.0,\n",
       " 'Optimismo': 0.0,\n",
       " 'Gratitud': 0.001,\n",
       " 'Enfado': 0.0,\n",
       " 'Indignación': 0,\n",
       " 'Impaciencia': 0,\n",
       " 'Venganza': 0,\n",
       " 'Satisfacción': 0,\n",
       " 'Compasión': 0,\n",
       " 'Alegría': 0,\n",
       " 'Culpa': 0,\n",
       " 'Resentimiento': 0,\n",
       " 'Rabia': 0,\n",
       " 'Preocupación': 0,\n",
       " 'Desesperación': 0,\n",
       " 'positivo': 0.0,\n",
       " 'negativo': 0.0,\n",
       " 'dudoso': 0.045}"
      ]
     },
     "execution_count": 24,
     "metadata": {},
     "output_type": "execute_result"
    }
   ],
   "source": [
    "#a = \"tengo mis dudas\"\n",
    "a = \"los zapatos estan defectuosos\"\n",
    "sentiments(a)"
   ]
  },
  {
   "cell_type": "markdown",
   "metadata": {},
   "source": []
  },
  {
   "cell_type": "code",
   "execution_count": 1,
   "metadata": {},
   "outputs": [],
   "source": [
    "from textblob.classifiers import NaiveBayesClassifier"
   ]
  },
  {
   "cell_type": "code",
   "execution_count": 3,
   "metadata": {},
   "outputs": [],
   "source": [
    "def sentiments(texto):\n",
    "    with open('datos.csv','r') as data:\n",
    "        cl= NaiveBayesClassifier(data,format=\"csv\")\n",
    "        print(cl.classify(texto))"
   ]
  },
  {
   "cell_type": "code",
   "execution_count": 5,
   "metadata": {},
   "outputs": [
    {
     "name": "stdout",
     "output_type": "stream",
     "text": [
      "dudoso\n"
     ]
    }
   ],
   "source": [
    "sentiments('mi perro es feliz')"
   ]
  },
  {
   "cell_type": "markdown",
   "metadata": {},
   "source": [
    "#lista de sentimientos\n",
    "- Amor\n",
    "- Tristeza\n",
    "- Euforia\n",
    "- Admiración\n",
    "- Odio\n",
    "- Envidia\n",
    "- Celos\n",
    "- Afecto\n",
    "- Agrado\n",
    "- Esperanza\n",
    "- Optimismo\n",
    "- Gratitud\n",
    "- Enfado\n",
    "- Indignación\n",
    "- Impaciencia\n",
    "- Venganza\n",
    "- Satisfacción\n",
    "- Compasión\n",
    "- Alegría\n",
    "- Culpa\n",
    "- Resentimiento\n",
    "- Rabia\n",
    "- Preocupación\n",
    "- Desesperación\n"
   ]
  },
  {
   "cell_type": "code",
   "execution_count": null,
   "metadata": {},
   "outputs": [],
   "source": [
    "# podemos determinar de que productos se habla y segun esto si el analisis del sentimiento de la conversacion es malo\n",
    "# se envia una notificacion al area del cual se hablo en la conversacion.\n",
    "\n",
    "\n",
    "#area retail al por menor de prendas de vestir\n",
    "#reatail\n",
    "\n"
   ]
  }
 ],
 "metadata": {
  "kernelspec": {
   "display_name": "Python 3",
   "language": "python",
   "name": "python3"
  },
  "language_info": {
   "codemirror_mode": {
    "name": "ipython",
    "version": 3
   },
   "file_extension": ".py",
   "mimetype": "text/x-python",
   "name": "python",
   "nbconvert_exporter": "python",
   "pygments_lexer": "ipython3",
   "version": "3.8.5"
  }
 },
 "nbformat": 4,
 "nbformat_minor": 4
}
